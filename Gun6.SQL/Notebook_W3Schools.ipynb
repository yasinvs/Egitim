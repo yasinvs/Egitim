{
    "metadata": {
        "kernelspec": {
            "name": "SQL",
            "display_name": "SQL",
            "language": "sql"
        },
        "language_info": {
            "name": "sql",
            "version": ""
        }
    },
    "nbformat_minor": 2,
    "nbformat": 4,
    "cells": [
        {
            "cell_type": "markdown",
            "source": [
                "<u>SQL SELECT</u>\n",
                "\n",
                "Veritabanından veri seçmek için kullanılır.\n",
                "\n",
                "**SELECT** sonrası yıldız ile belirtilen yere sütun ismi yazılabilir.\n",
                "\n",
                "**FROM** ise hangi tabloyu seçeceğini gösterir"
            ],
            "metadata": {
                "azdata_cell_guid": "ce035688-b2f5-4a25-89ce-6e78c59c9559"
            },
            "attachments": {}
        },
        {
            "cell_type": "code",
            "source": [
                "SELECT * FROM Customers;"
            ],
            "metadata": {
                "azdata_cell_guid": "16fd5bad-9fa8-4b83-8710-bce4ffb18385"
            },
            "outputs": [],
            "execution_count": null
        },
        {
            "cell_type": "code",
            "source": [
                "SELECT CompanyName, City FROM Customers;"
            ],
            "metadata": {
                "azdata_cell_guid": "00a41f72-bc15-4622-8683-57f7160556b7"
            },
            "outputs": [],
            "execution_count": null
        },
        {
            "cell_type": "markdown",
            "source": [
                "<u>SQL SELECT DISTINCT</u>\n",
                "\n",
                "Veritabanında seçilen sütunlarda yinelenen değerleri göstermemeyi sağlar."
            ],
            "metadata": {
                "azdata_cell_guid": "56ab7007-1821-4b27-8b4d-f45a2b05a353"
            },
            "attachments": {}
        },
        {
            "cell_type": "code",
            "source": [
                "SELECT DISTINCT City FROM Customers;"
            ],
            "metadata": {
                "azdata_cell_guid": "34bcea39-495d-42d0-bb39-48d60d8fceba"
            },
            "outputs": [],
            "execution_count": null
        },
        {
            "cell_type": "markdown",
            "source": [
                "<u>SQL WHERE</u>\n",
                "\n",
                "**WHERE** veriyi filtrelemek için kullanılan kelimedir."
            ],
            "metadata": {
                "azdata_cell_guid": "63ac2c90-2e26-441b-988d-3c8bbe37b278"
            },
            "attachments": {}
        }
    ]
}