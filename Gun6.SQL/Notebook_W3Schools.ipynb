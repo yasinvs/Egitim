{
    "metadata": {
        "kernelspec": {
            "name": "SQL",
            "display_name": "SQL",
            "language": "sql"
        },
        "language_info": {
            "name": "sql",
            "version": ""
        }
    },
    "nbformat_minor": 2,
    "nbformat": 4,
    "cells": [
        {
            "cell_type": "markdown",
            "source": [
                "<u>SQL SELECT</u>\n",
                "\n",
                "Veritabanından veri seçmek için kullanılır.\n",
                "\n",
                "**SELECT** sonrası yıldız ile belirtilen yere sütun ismi yazılabilir.\n",
                "\n",
                "**FROM** ise hangi tabloyu seçeceğini gösterir"
            ],
            "metadata": {
                "azdata_cell_guid": "ce035688-b2f5-4a25-89ce-6e78c59c9559"
            },
            "attachments": {}
        },
        {
            "cell_type": "code",
            "source": [
                "SELECT * FROM Customers;"
            ],
            "metadata": {
                "azdata_cell_guid": "16fd5bad-9fa8-4b83-8710-bce4ffb18385"
            },
            "outputs": [],
            "execution_count": null
        },
        {
            "cell_type": "code",
            "source": [
                "SELECT CompanyName, City FROM Customers;"
            ],
            "metadata": {
                "azdata_cell_guid": "00a41f72-bc15-4622-8683-57f7160556b7"
            },
            "outputs": [],
            "execution_count": null
        },
        {
            "cell_type": "markdown",
            "source": [
                "<u>SQL SELECT DISTINCT</u>\n",
                "\n",
                "Veritabanında seçilen sütunlarda yinelenen değerleri göstermemeyi sağlar."
            ],
            "metadata": {
                "azdata_cell_guid": "56ab7007-1821-4b27-8b4d-f45a2b05a353"
            },
            "attachments": {}
        },
        {
            "cell_type": "code",
            "source": [
                "SELECT DISTINCT City FROM Customers;"
            ],
            "metadata": {
                "azdata_cell_guid": "34bcea39-495d-42d0-bb39-48d60d8fceba"
            },
            "outputs": [],
            "execution_count": null
        },
        {
            "cell_type": "markdown",
            "source": [
                "<u>SQL WHERE</u>\n",
                "\n",
                "**WHERE** veriyi filtrelemek için kullanılan kelimedir."
            ],
            "metadata": {
                "azdata_cell_guid": "63ac2c90-2e26-441b-988d-3c8bbe37b278"
            },
            "attachments": {}
        },
        {
            "cell_type": "code",
            "source": [
                "SELECT * FROM Customers WHERE Country='Mexico';"
            ],
            "metadata": {
                "azdata_cell_guid": "c2b3ac77-d12d-444d-8753-196e053c37eb"
            },
            "outputs": [],
            "execution_count": null
        },
        {
            "cell_type": "code",
            "source": [
                "SELECT * FROM Customers WHERE PostalCode=12209;"
            ],
            "metadata": {
                "azdata_cell_guid": "a900dc65-b1e5-4488-9eca-cfdc5077f21d"
            },
            "outputs": [],
            "execution_count": null
        },
        {
            "cell_type": "code",
            "source": [
                "SELECT * FROM Customers WHERE City LIKE 's%';"
            ],
            "metadata": {
                "azdata_cell_guid": "ee0505ba-a949-449b-9d50-ed363fe49c2e"
            },
            "outputs": [],
            "execution_count": null
        },
        {
            "cell_type": "code",
            "source": [
                "SELECT * FROM Products WHERE UnitPrice BETWEEN 50 AND 60;"
            ],
            "metadata": {
                "azdata_cell_guid": "1a8f54e7-0f08-406a-b5eb-1155567e58d4"
            },
            "outputs": [],
            "execution_count": null
        },
        {
            "cell_type": "code",
            "source": [
                "SELECT * FROM Customers WHERE City IN ('Paris', 'London');"
            ],
            "metadata": {
                "azdata_cell_guid": "78f6dc4b-8885-43fe-84a7-6de8e86514ea"
            },
            "outputs": [],
            "execution_count": null
        },
        {
            "cell_type": "markdown",
            "source": [
                "<u>SQL AND, OR and NOT Operators</u>\n",
                "\n",
                "Kayıtları birden fazla koşula göre filtrelemek için kullanılır.\n",
                "\n",
                "**AND** tüm koşullar doğru ise görüntülenir.\n",
                "\n",
                "**OR** koşullardan herhangi biri doğru ise görüntülenir.\n",
                "\n",
                "**NOT** koşul doğru değilse görüntülenir."
            ],
            "metadata": {
                "azdata_cell_guid": "20b2a5d5-1da6-4227-8209-a4ed893f4ded"
            },
            "attachments": {}
        },
        {
            "cell_type": "code",
            "source": [
                "SELECT * FROM Customers WHERE Country='Germany' AND City='Berlin';"
            ],
            "metadata": {
                "azdata_cell_guid": "45a120fb-0209-4cc7-9e48-2f9c9823cee1"
            },
            "outputs": [],
            "execution_count": null
        },
        {
            "cell_type": "code",
            "source": [
                "SELECT * FROM Customers WHERE City='Berlin' OR City='Mannheim';"
            ],
            "metadata": {
                "azdata_cell_guid": "a0a10efa-4595-4baa-8a48-4c47ee54e819"
            },
            "outputs": [],
            "execution_count": null
        },
        {
            "cell_type": "code",
            "source": [
                "SELECT * FROM Customers WHERE NOT Country='Germany';"
            ],
            "metadata": {
                "azdata_cell_guid": "38035e0c-172c-4e5d-b323-c862d48e1429"
            },
            "outputs": [],
            "execution_count": null
        },
        {
            "cell_type": "markdown",
            "source": [
                "Tüm isteyicileri birleştirebilirsiniz."
            ],
            "metadata": {
                "azdata_cell_guid": "b3fe995b-bb4f-4379-98ad-00d0b91aba41"
            },
            "attachments": {}
        },
        {
            "cell_type": "code",
            "source": [
                "SELECT * FROM Customers\r\n",
                "WHERE Country='Germany' AND (City='Berlin' OR City='München');"
            ],
            "metadata": {
                "azdata_cell_guid": "8ca78b21-39be-493f-92bc-298e300a7342",
                "tags": [
                    "hide_input"
                ]
            },
            "outputs": [],
            "execution_count": null
        },
        {
            "cell_type": "markdown",
            "source": [
                "<u>SQL ORDER BY</u>\n",
                "\n",
                "Seçilen herhangi bir sütunu sıralamak için kullanılır.\n",
                "\n",
                "**ASC** \\- A dan Z ye\n",
                "\n",
                "**DESC** \\- Z den A ya"
            ],
            "metadata": {
                "azdata_cell_guid": "8f7d639d-1de3-4381-aeef-028464cb2f9f"
            },
            "attachments": {}
        },
        {
            "cell_type": "code",
            "source": [
                "SELECT * FROM Customers ORDER BY Country;"
            ],
            "metadata": {
                "azdata_cell_guid": "e3a3803a-5fa0-4d12-a1ea-96b94112ded7"
            },
            "outputs": [],
            "execution_count": null
        },
        {
            "cell_type": "code",
            "source": [
                "SELECT * FROM Customers ORDER BY Country ASC;"
            ],
            "metadata": {
                "azdata_cell_guid": "7d45f7f4-8b64-4450-8747-7452b74f987e"
            },
            "outputs": [],
            "execution_count": null
        },
        {
            "cell_type": "code",
            "source": [
                "SELECT * FROM Customers ORDER BY Country DESC;"
            ],
            "metadata": {
                "azdata_cell_guid": "35a29537-9b17-488e-b77e-6ede62719140"
            },
            "outputs": [],
            "execution_count": null
        },
        {
            "cell_type": "markdown",
            "source": [
                "<u>SQL INSERT INTO</u>\n",
                "\n",
                "Yeni kayıt ekleme yarar."
            ],
            "metadata": {
                "azdata_cell_guid": "9afe3684-3c1c-4c13-91a3-73a3bc20860c"
            },
            "attachments": {}
        },
        {
            "cell_type": "code",
            "source": [
                "INSERT INTO Customers (CustomerID, CompanyName, Address, City, PostalCode, Country)\r\n",
                "VALUES ('ALFK2', 'Cardinal', 'Skaylake', 'Berlin', '4444', 'Germany');"
            ],
            "metadata": {
                "azdata_cell_guid": "72a0fa82-9c9b-426e-b1d3-4e7b9ce0d81e"
            },
            "outputs": [],
            "execution_count": null
        },
        {
            "cell_type": "markdown",
            "source": [
                "<u>SQL IS NULL / NOT NULL</u>"
            ],
            "metadata": {
                "azdata_cell_guid": "5aabc6f7-a33f-4ce1-abad-841a753f7c0f"
            },
            "attachments": {}
        },
        {
            "cell_type": "code",
            "source": [
                "SELECT * FROM Customers WHERE City IS NULL;"
            ],
            "metadata": {
                "azdata_cell_guid": "947c711c-8010-4794-93f0-f9bf408dc824"
            },
            "outputs": [],
            "execution_count": null
        },
        {
            "cell_type": "code",
            "source": [
                "SELECT * FROM Customers WHERE City IS NOT NULL;"
            ],
            "metadata": {
                "azdata_cell_guid": "2c1e7b16-392d-4ace-b14b-7ecbede1b4ff"
            },
            "outputs": [],
            "execution_count": null
        }
    ]
}