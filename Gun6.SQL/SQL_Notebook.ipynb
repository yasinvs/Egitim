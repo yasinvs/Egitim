{
    "metadata": {
        "kernelspec": {
            "name": "SQL",
            "display_name": "SQL",
            "language": "sql"
        },
        "language_info": {
            "name": "sql",
            "version": ""
        },
        "extensions": {
            "azuredatastudio": {
                "version": 1,
                "views": []
            }
        }
    },
    "nbformat_minor": 2,
    "nbformat": 4,
    "cells": [
        {
            "cell_type": "markdown",
            "source": [
                "Select komutu ile seçilen sütunları belirtilen tabloya göre listeler."
            ],
            "metadata": {
                "azdata_cell_guid": "a46cf3c9-7d6b-4be0-b04e-080e54aa5606"
            },
            "attachments": {}
        },
        {
            "cell_type": "code",
            "source": [
                "Select * from Customers;"
            ],
            "metadata": {
                "extensions": {
                    "azuredatastudio": {
                        "views": []
                    }
                },
                "azdata_cell_guid": "47ab9657-a05b-49f3-a6b8-a6a934e9561e"
            },
            "outputs": [],
            "execution_count": null
        },
        {
            "cell_type": "code",
            "source": [
                "SELECT CompanyName, City from Customers;"
            ],
            "metadata": {
                "azdata_cell_guid": "a3c7953c-6e19-45cd-99bd-60ebc2392012"
            },
            "outputs": [],
            "execution_count": null
        },
        {
            "cell_type": "markdown",
            "source": [
                "SELECT DISTINCT Komutu ; Bir tablonun içinde bulunan bir sütun birçok yinelenen değer içerirse tek bir şekilde listelenmesi sağlanır\n",
                "\n",
                "ÖRNEK olarak : Customers tablosundaki City sütununda 91 öge varken DISTINCT komutu ile 69 öge bulunmaktadır."
            ],
            "metadata": {
                "azdata_cell_guid": "bc807912-4030-4e42-b2b4-ff4f750e2e0e"
            },
            "attachments": {}
        },
        {
            "cell_type": "code",
            "source": [
                "SELECT DISTINCT(City) from Customers;"
            ],
            "metadata": {
                "azdata_cell_guid": "b3d3ba01-f73e-4e47-bbe4-40fb96881c3d"
            },
            "outputs": [],
            "execution_count": null
        },
        {
            "cell_type": "markdown",
            "source": [
                "COUNT komutu ile sayı geri dönüşü yapılır."
            ],
            "metadata": {
                "azdata_cell_guid": "c240e8b5-e21d-44ea-a3ad-adf0a4ee3aef"
            },
            "attachments": {}
        },
        {
            "cell_type": "code",
            "source": [
                "SELECT COUNT(DISTINCT City) from Customers;"
            ],
            "metadata": {
                "azdata_cell_guid": "08cc6e75-bd5f-478c-b2fe-9a99bf2af7e1",
                "tags": []
            },
            "outputs": [],
            "execution_count": null
        },
        {
            "cell_type": "markdown",
            "source": [
                "SQL Where Cümlesi kayıtları filtrelemek için kullanılır\n",
                "\n",
                "<span class=\"sqlkeywordcolor\" style=\"box-sizing: inherit; color: mediumblue; font-family: Consolas, &quot;courier new&quot;; font-size: 15px; background-color: rgb(255, 255, 255);\">SELECT</span> _column1_<span style=\"color: rgb(0, 0, 0); font-family: Consolas, &quot;courier new&quot;; font-size: 15px; background-color: rgb(255, 255, 255);\">,</span> _column2, ..._  \n",
                "<span class=\"sqlkeywordcolor\" style=\"box-sizing: inherit; color: mediumblue; font-family: Consolas, &quot;courier new&quot;; font-size: 15px; background-color: rgb(255, 255, 255);\">FROM</span> _table\\_name_  \n",
                "<span class=\"sqlkeywordcolor\" style=\"box-sizing: inherit; color: mediumblue; font-family: Consolas, &quot;courier new&quot;; font-size: 15px; background-color: rgb(255, 255, 255);\">WHERE</span> _condition_<span style=\"color: rgb(0, 0, 0); font-family: Consolas, &quot;courier new&quot;; font-size: 15px; background-color: rgb(255, 255, 255);\">;</span>\n",
                "\n",
                "| Operator | Description | Example |\n",
                "| --- | --- | --- |\n",
                "| \\= | Equal | [Try it](https://www.w3schools.com/sql/trysql.asp?filename=trysql_op_equal_to) |\n",
                "| \\\\\\> | Greater than | [Try it](https://www.w3schools.com/sql/trysql.asp?filename=trysql_op_greater_than) |\n",
                "| \\< | Less than | [Try it](https://www.w3schools.com/sql/trysql.asp?filename=trysql_op_less_than) |\n",
                "| \\\\\\>= | Greater than or equal | [Try it](https://www.w3schools.com/sql/trysql.asp?filename=trysql_op_greater_than2) |\n",
                "| \\<= | Less than or equal | [Try it](https://www.w3schools.com/sql/trysql.asp?filename=trysql_op_less_than2) |\n",
                "| \\<\\> | Not equal. Note: In some versions of SQL this operator may be written as != | [Try it](https://www.w3schools.com/sql/trysql.asp?filename=trysql_op_not_equal_to) |\n",
                "| BETWEEN | Between a certain range - Belirli bir aralık arasında | [Try it](https://www.w3schools.com/sql/trysql.asp?filename=trysql_op_between) |\n",
                "| LIKE | Search for a pattern - Bir desen arayın | [Try it](https://www.w3schools.com/sql/trysql.asp?filename=trysql_op_like) |\n",
                "| IN | To specify multiple possible values for a column - Bir sütun için birden çok olası değer belirtmek için | [Try it](https://www.w3schools.com/sql/trysql.asp?filename=trysql_op_in) |"
            ],
            "metadata": {
                "azdata_cell_guid": "2caca914-8adc-4393-8444-f6ab551d9f36"
            },
            "attachments": {}
        },
        {
            "cell_type": "code",
            "source": [
                "SELECT * FROM Customers WHERE Country='Mexico';"
            ],
            "metadata": {
                "azdata_cell_guid": "88825087-eb0a-4549-a03b-4b5c86723869"
            },
            "outputs": [],
            "execution_count": null
        },
        {
            "cell_type": "code",
            "source": [
                "SELECT * FROM Products WHERE UnitPrice BETWEEN 50 AND 60;"
            ],
            "metadata": {
                "azdata_cell_guid": "fac5ce38-d734-4120-b40e-54fc87e5e8ed"
            },
            "outputs": [],
            "execution_count": null
        },
        {
            "cell_type": "code",
            "source": [
                "SELECT * FROM Customers WHERE City LIKE 's%';"
            ],
            "metadata": {
                "azdata_cell_guid": "079830f5-dfa4-493f-b1ff-39470b7f5250"
            },
            "outputs": [],
            "execution_count": null
        },
        {
            "cell_type": "code",
            "source": [
                "SELECT * FROM Customers WHERE City IN ('Paris','London');"
            ],
            "metadata": {
                "azdata_cell_guid": "a5a360da-98fa-4d6d-8cad-5323b0562a1c"
            },
            "outputs": [],
            "execution_count": null
        },
        {
            "cell_type": "markdown",
            "source": [
                "WHERE yan tümcesi AND, OR ve NOT operatörleriyle birleştirilebilir."
            ],
            "metadata": {
                "azdata_cell_guid": "776ae784-3e38-4a41-b0d0-bcb327e479f5"
            },
            "attachments": {}
        },
        {
            "cell_type": "code",
            "source": [
                "SELECT * FROM Customers WHERE Country='Germany' AND City='Berlin';"
            ],
            "metadata": {
                "azdata_cell_guid": "eaa20b78-96d2-468d-a981-d969f1de245e"
            },
            "outputs": [],
            "execution_count": 13
        },
        {
            "cell_type": "code",
            "source": [
                "SELECT * FROM Customers WHERE City='Berlin' OR City='München';"
            ],
            "metadata": {
                "azdata_cell_guid": "cb446a6e-417b-4ca8-9a6a-98e91125f6f4"
            },
            "outputs": [],
            "execution_count": null
        },
        {
            "cell_type": "code",
            "source": [
                "SELECT * FROM Customers WHERE Country='Germany' OR Country='Spain';"
            ],
            "metadata": {
                "azdata_cell_guid": "f47b1d95-9d11-492d-be6a-83b0536a932d"
            },
            "outputs": [],
            "execution_count": null
        },
        {
            "cell_type": "code",
            "source": [
                "SELECT * FROM Customers WHERE NOT Country='Germany';"
            ],
            "metadata": {
                "azdata_cell_guid": "993b6bd1-876d-4602-bce9-cffd0bc2e7d6"
            },
            "outputs": [],
            "execution_count": 21
        },
        {
            "cell_type": "code",
            "source": [
                "SELECT * FROM Customers WHERE Country='Germany' AND (City='Berlin' OR City='München');"
            ],
            "metadata": {
                "azdata_cell_guid": "b39db9ab-e715-4449-aaf9-7ad3b365b37b"
            },
            "outputs": [],
            "execution_count": null
        },
        {
            "cell_type": "markdown",
            "source": [
                "SQL ORDER BY\n",
                "\n",
                "ORDER BY anahtar sözcüğü, sonuç kümesini artan veya azalan düzende sıralamak için kullanılır. ORDER BY anahtar sözcüğü, varsayılan olarak kayıtları artan düzende sıralar. Kayıtları azalan düzende sıralamak için DESC anahtar sözcüğünü kullanın.  \n",
                "\n",
                "  \n",
                "\n",
                "<span class=\"sqlkeywordcolor\" style=\"box-sizing: inherit; color: mediumblue; font-family: Consolas, &quot;courier new&quot;; font-size: 15px; background-color: rgb(255, 255, 255);\">SELECT</span> _column1_<span style=\"color: rgb(0, 0, 0); font-family: Consolas, &quot;courier new&quot;; font-size: 15px; background-color: rgb(255, 255, 255);\">,</span> _column2, ..._  \n",
                "<span class=\"sqlkeywordcolor\" style=\"box-sizing: inherit; color: mediumblue; font-family: Consolas, &quot;courier new&quot;; font-size: 15px; background-color: rgb(255, 255, 255);\">FROM</span> _table\\_name_  \n",
                "<span class=\"sqlkeywordcolor\" style=\"box-sizing: inherit; color: mediumblue; font-family: Consolas, &quot;courier new&quot;; font-size: 15px; background-color: rgb(255, 255, 255);\">ORDER</span> <span class=\"sqlkeywordcolor\" style=\"box-sizing: inherit; color: mediumblue; font-family: Consolas, &quot;courier new&quot;; font-size: 15px; background-color: rgb(255, 255, 255);\">BY</span> _column1, column2, ..._ <span class=\"sqlkeywordcolor\" style=\"box-sizing: inherit; color: mediumblue; font-family: Consolas, &quot;courier new&quot;; font-size: 15px; background-color: rgb(255, 255, 255);\">ASC</span><span style=\"color: rgb(0, 0, 0); font-family: Consolas, &quot;courier new&quot;; font-size: 15px; background-color: rgb(255, 255, 255);\">|</span><span class=\"sqlkeywordcolor\" style=\"box-sizing: inherit; color: mediumblue; font-family: Consolas, &quot;courier new&quot;; font-size: 15px; background-color: rgb(255, 255, 255);\">DESC</span><span style=\"color: rgb(0, 0, 0); font-family: Consolas, &quot;courier new&quot;; font-size: 15px; background-color: rgb(255, 255, 255);\">;</span>"
            ],
            "metadata": {
                "azdata_cell_guid": "9e279b12-da31-47cc-9bee-4e4774325664"
            },
            "attachments": {}
        },
        {
            "cell_type": "code",
            "source": [
                "SELECT * FROM Customers ORDER BY Country;"
            ],
            "metadata": {
                "azdata_cell_guid": "6380ca19-a4a7-465c-ade4-56796e1e4b6a"
            },
            "outputs": [],
            "execution_count": null
        },
        {
            "cell_type": "code",
            "source": [
                "SELECT * FROM Customers ORDER BY Country DESC;"
            ],
            "metadata": {
                "azdata_cell_guid": "4cedbec6-f48c-4538-a8ba-e620ba5f81d1"
            },
            "outputs": [],
            "execution_count": null
        },
        {
            "cell_type": "code",
            "source": [
                "SELECT * FROM Customers ORDER BY Country, ContactName;"
            ],
            "metadata": {
                "azdata_cell_guid": "b1f616f0-cf11-4372-af5d-97db0aafd285"
            },
            "outputs": [],
            "execution_count": null
        },
        {
            "cell_type": "code",
            "source": [
                "SELECT * FROM Customers ORDER BY Country ASC, ContactName DESC;"
            ],
            "metadata": {
                "azdata_cell_guid": "1bbea29a-4f81-4f21-b05e-03ac4bf0c84f"
            },
            "outputs": [],
            "execution_count": null
        },
        {
            "cell_type": "markdown",
            "source": [
                "SQL INSERT\n",
                "\n",
                "Bir tabloya yeni giriş eklemek için kullanılır"
            ],
            "metadata": {
                "azdata_cell_guid": "8c74f163-6de9-4403-be19-49863a201f32"
            },
            "attachments": {}
        },
        {
            "cell_type": "code",
            "source": [
                "INSERT INTO Customers (CustomerID, CompanyName, ContactName, Address, City, PostalCode, Country) VALUES ('CARDL', 'Cardinal', 'Tom B. Erichsen', 'Skagen 21', 'Stavanger', '4006', 'Norway');"
            ],
            "metadata": {
                "azdata_cell_guid": "a2e7f8de-5484-427f-9f36-f75fcd3f3a6b",
                "tags": []
            },
            "outputs": [
{
    "output_type": "display_data",
    "data": {
        "text/html": "(1 row affected)"
    },
    "metadata": {}
}, {
    "output_type": "display_data",
    "data": {
        "text/html": "Total execution time: 00:00:00.005"
    },
    "metadata": {}
}
],
            "execution_count": 12
        }
    ]
}