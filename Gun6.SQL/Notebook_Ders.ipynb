{
    "metadata": {
        "kernelspec": {
            "name": "SQL",
            "display_name": "SQL",
            "language": "sql"
        },
        "language_info": {
            "name": "sql",
            "version": ""
        },
        "extensions": {
            "azuredatastudio": {
                "version": 1,
                "views": []
            }
        }
    },
    "nbformat_minor": 2,
    "nbformat": 4,
    "cells": [
        {
            "cell_type": "markdown",
            "source": [
                "SELECT KOMUTU \n",
                "\n",
                "Seç demek bir veri kaynağındaki datayı çekmek için kullanılır."
            ],
            "metadata": {
                "azdata_cell_guid": "3eef3239-832d-4b40-a4ef-e79ba5e71f30"
            },
            "attachments": {}
        },
        {
            "cell_type": "code",
            "source": [
                "SELECT ContactName Adi, CompanyName SirketAdi, City Sehir FROM Customers"
            ],
            "metadata": {
                "azdata_cell_guid": "1aba562e-15ec-4e76-8f3e-00cd4d874508"
            },
            "outputs": [],
            "execution_count": null
        },
        {
            "cell_type": "markdown",
            "source": [
                "Where ; Koşuldur, filtreleme için kullanılır."
            ],
            "metadata": {
                "azdata_cell_guid": "afdf70d6-7319-49e1-b9d7-05054e1c0343"
            },
            "attachments": {}
        },
        {
            "cell_type": "code",
            "source": [
                "SELECT * from Customers WHERE City = 'London'"
            ],
            "metadata": {
                "azdata_cell_guid": "e6452a99-a52b-40de-8cfd-2340bcfb2983"
            },
            "outputs": [],
            "execution_count": null
        },
        {
            "cell_type": "code",
            "source": [
                "SELECT * FROM Products WHERE CategoryID = 1 or CategoryID = 3"
            ],
            "metadata": {
                "azdata_cell_guid": "7fe231cc-d2ea-475d-b1f8-f48f7c9aba61"
            },
            "outputs": [],
            "execution_count": null
        },
        {
            "cell_type": "code",
            "source": [
                "SELECT * FROM Products WHERE CategoryID = 1 and UnitPrice >= 10"
            ],
            "metadata": {
                "azdata_cell_guid": "88079546-3c09-48c6-944a-296c594f2114"
            },
            "outputs": [],
            "execution_count": null
        },
        {
            "cell_type": "markdown",
            "source": [
                "Order by\n",
                "\n",
                "Belirtilen kolonları sıralamadır.\n",
                "\n",
                "asc -- ascending ARTAN\n",
                "\n",
                "desc -- descending AZALAN"
            ],
            "metadata": {
                "azdata_cell_guid": "0fc14df5-34e1-45af-9525-77de020d6bce"
            },
            "attachments": {}
        },
        {
            "cell_type": "code",
            "source": [
                "SELECT * FROM Products WHERE CategoryID = 1 ORDER BY UnitPrice DESC"
            ],
            "metadata": {
                "azdata_cell_guid": "98f45812-03c1-49d9-b69a-312f9053331f"
            },
            "outputs": [],
            "execution_count": null
        },
        {
            "cell_type": "code",
            "source": [
                "SELECT COUNT(*) Adet FROM Products WHERE CategoryID = 2"
            ],
            "metadata": {
                "azdata_cell_guid": "0d5cac05-4692-4e52-a581-f919593950e9",
                "tags": []
            },
            "outputs": [],
            "execution_count": null
        },
        {
            "cell_type": "markdown",
            "source": [
                "Group By --- Seçilen tablodaki kolonu tekrar etmeyecek şekilde getir. Yanına count eklersen kaçtane tekrar ettiği belli olur.\n",
                "\n",
                "Group By de having komutu WHERE yerine geçer. WHERE komutu her zaman group by den önce çalışır ve veriyi filtreler"
            ],
            "metadata": {
                "azdata_cell_guid": "9d405e1a-7d3b-4435-8842-179334cce866"
            },
            "attachments": {}
        },
        {
            "cell_type": "code",
            "source": [
                "SELECT CategoryID, count(*) FROM Products WHERE UnitPrice > 20\r\n",
                "GROUP BY CategoryID HAVING count(*) < 10"
            ],
            "metadata": {
                "azdata_cell_guid": "a1634d0a-0536-4109-9943-4f6ef82b1ba3",
                "tags": []
            },
            "outputs": [],
            "execution_count": null
        },
        {
            "cell_type": "markdown",
            "source": [
                "JOIN - inner join // Sadece iki tabloda eşleşenleri bir araya getirir\n",
                "\n",
                "c# = DTO - Data Transformation Object"
            ],
            "metadata": {
                "azdata_cell_guid": "08b169c7-805e-4f98-8c05-e161f423db18"
            },
            "attachments": {}
        },
        {
            "cell_type": "code",
            "source": [
                "SELECT Products.CategoryID, Products.ProductName,Products.UnitPrice, Categories.CategoryName\r\n",
                "from Products\r\n",
                "inner join Categories on Products.CategoryID = Categories.CategoryID\r\n",
                "WHERE Products.UnitPrice > 10\r\n",
                "ORDER BY Products.UnitPrice"
            ],
            "metadata": {
                "azdata_cell_guid": "abb194dc-2906-4e1e-80f5-fc143e04a9d4"
            },
            "outputs": [],
            "execution_count": null
        },
        {
            "cell_type": "markdown",
            "source": [
                "JOIN - left join // solda olupta sağda olmayanları da getir.\n",
                "\n",
                "WHERE is null ile solda olup sağda olmayanlar tespit edilebilir"
            ],
            "metadata": {
                "azdata_cell_guid": "e510fe45-3339-485a-bde3-1b1770b7bd3c"
            },
            "attachments": {}
        },
        {
            "cell_type": "code",
            "source": [
                "SELECT * \r\n",
                "from Products p\r\n",
                "left join [Order Details] od\r\n",
                "on p.ProductID = od.ProductID"
            ],
            "metadata": {
                "azdata_cell_guid": "396ee3f1-485b-4e55-be97-2ca88f95b497"
            },
            "outputs": [],
            "execution_count": 43
        },
        {
            "cell_type": "code",
            "source": [
                "SELECT * \r\n",
                "from Products p\r\n",
                "left join [Order Details] od\r\n",
                "on p.ProductID = od.ProductID\r\n",
                "inner join Orders o\r\n",
                "on o.OrderID = od.OrderID"
            ],
            "metadata": {
                "azdata_cell_guid": "2ede3040-f24c-441c-88ae-c7dfaea66999"
            },
            "outputs": [],
            "execution_count": null
        },
        {
            "cell_type": "code",
            "source": [
                "SELECT *\r\n",
                "from Customers c\r\n",
                "left join Orders o\r\n",
                "on c.CustomerID = o.CustomerID\r\n",
                "WHERE o.CustomerID is null"
            ],
            "metadata": {
                "azdata_cell_guid": "8e9fe874-4989-4fdb-8677-0b2f18b45419"
            },
            "outputs": [],
            "execution_count": null
        }
    ]
}