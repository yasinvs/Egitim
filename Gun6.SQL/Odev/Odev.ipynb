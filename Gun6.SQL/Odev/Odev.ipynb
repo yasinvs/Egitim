{
    "metadata": {
        "kernelspec": {
            "name": "SQL",
            "display_name": "SQL",
            "language": "sql"
        },
        "language_info": {
            "name": "sql",
            "version": ""
        }
    },
    "nbformat_minor": 2,
    "nbformat": 4,
    "cells": [
        {
            "cell_type": "code",
            "source": [
                "SELECT ProductName AS [Ürün Adı], SUM(Quantity * [Order Details].UnitPrice) AS [Kazanılan Ücret]\r\n",
                "FROM (([Order Details]\r\n",
                "LEFT JOIN Products ON [Order Details].ProductID = Products.ProductID)\r\n",
                "LEFT JOIN Orders ON [Order Details].OrderID = Orders.OrderID)\r\n",
                "GROUP BY ProductName\r\n",
                "ORDER BY [Kazanılan Ücret] DESC"
            ],
            "metadata": {
                "azdata_cell_guid": "28e6c122-e9fe-4845-a3fb-9fda99dc3c09",
                "tags": []
            },
            "outputs": [],
            "execution_count": null
        }
    ]
}