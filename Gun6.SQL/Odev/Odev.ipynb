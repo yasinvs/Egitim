{
    "metadata": {
        "kernelspec": {
            "name": "SQL",
            "display_name": "SQL",
            "language": "sql"
        },
        "language_info": {
            "name": "sql",
            "version": ""
        }
    },
    "nbformat_minor": 2,
    "nbformat": 4,
    "cells": [
        {
            "cell_type": "code",
            "source": [
                "SELECT ProductName AS [Ürün Adı], SUM(Quantity * [Order Details].UnitPrice) AS [Kazanılan Ücret]\r\n",
                "FROM (([Order Details]\r\n",
                "LEFT JOIN Products ON [Order Details].ProductID = Products.ProductID)\r\n",
                "LEFT JOIN Orders ON [Order Details].OrderID = Orders.OrderID)\r\n",
                "GROUP BY ProductName\r\n",
                "ORDER BY [Kazanılan Ücret] DESC"
            ],
            "metadata": {
                "azdata_cell_guid": "28e6c122-e9fe-4845-a3fb-9fda99dc3c09",
                "tags": []
            },
            "outputs": [
{
    "output_type": "display_data",
    "data": {
        "text/html": "(77 rows affected)"
    },
    "metadata": {}
}, {
    "output_type": "display_data",
    "data": {
        "text/html": "Total execution time: 00:00:00.016"
    },
    "metadata": {}
}, {
    "output_type": "execute_result",
    "metadata": {},
    "execution_count": 25,
    "data": {
        "application/vnd.dataresource+json": {
            "schema": {
                "fields": [
                    {
                        "name": "Ürün Adı"
                    },
                    {
                        "name": "Kazanılan Ücret"
                    }
                ]
            },
            "data": [
                {
                    "0": "Côte de Blaye",
                    "1": "149984,2000"
                },
                {
                    "0": "Thüringer Rostbratwurst",
                    "1": "87736,4000"
                },
                {
                    "0": "Raclette Courdavault",
                    "1": "76296,0000"
                },
                {
                    "0": "Camembert Pierrot",
                    "1": "50286,0000"
                },
                {
                    "0": "Tarte au sucre",
                    "1": "49827,9000"
                },
                {
                    "0": "Gnocchi di nonna Alice",
                    "1": "45121,2000"
                },
                {
                    "0": "Manjimup Dried Apples",
                    "1": "44742,6000"
                },
                {
                    "0": "Alice Mutton",
                    "1": "35482,2000"
                },
                {
                    "0": "Carnarvon Tigers",
                    "1": "31987,5000"
                },
                {
                    "0": "Rössle Sauerkraut",
                    "1": "26865,6000"
                },
                {
                    "0": "Mozzarella di Giovanni",
                    "1": "25738,8000"
                },
                {
                    "0": "Ipoh Coffee",
                    "1": "25079,2000"
                },
                {
                    "0": "Gudbrandsdalsost",
                    "1": "24307,2000"
                },
                {
                    "0": "Sir Rodney's Marmalade",
                    "1": "23635,8000"
                },
                {
                    "0": "Wimmers gute Semmelknödel",
                    "1": "23009,0000"
                },
                {
                    "0": "Uncle Bob's Organic Dried Pears",
                    "1": "22464,0000"
                },
                {
                    "0": "Ikura",
                    "1": "22140,2000"
                },
                {
                    "0": "Gumbär Gummibärchen",
                    "1": "21534,9000"
                },
                {
                    "0": "Perth Pasties",
                    "1": "21510,2000"
                },
                {
                    "0": "Flotemysost",
                    "1": "20876,5000"
                },
                {
                    "0": "Pâté chinois",
                    "1": "19512,0000"
                },
                {
                    "0": "Boston Crab Meat",
                    "1": "19048,3000"
                },
                {
                    "0": "Pavlova",
                    "1": "18748,0500"
                },
                {
                    "0": "Chang",
                    "1": "18559,2000"
                },
                {
                    "0": "Vegie-spread",
                    "1": "17696,3000"
                },
                {
                    "0": "Lakkalikööri",
                    "1": "16794,0000"
                },
                {
                    "0": "Sirop d'érable",
                    "1": "16438,8000"
                },
                {
                    "0": "Gorgonzola Telino",
                    "1": "16172,5000"
                },
                {
                    "0": "Schoggi Schokolade",
                    "1": "15231,5000"
                },
                {
                    "0": "Nord-Ost Matjeshering",
                    "1": "14775,5400"
                },
                {
                    "0": "Louisiana Fiery Hot Pepper Sauce",
                    "1": "14607,0000"
                },
                {
                    "0": "Inlagd Sill",
                    "1": "14542,6000"
                },
                {
                    "0": "Steeleye Stout",
                    "1": "14536,8000"
                },
                {
                    "0": "Chai",
                    "1": "14277,6000"
                },
                {
                    "0": "Queso Cabrales",
                    "1": "13902,0000"
                },
                {
                    "0": "Northwoods Cranberry Sauce",
                    "1": "13760,0000"
                },
                {
                    "0": "Chartreuse verte",
                    "1": "13150,8000"
                },
                {
                    "0": "Queso Manchego La Pastora",
                    "1": "12866,8000"
                },
                {
                    "0": "Outback Lager",
                    "1": "11472,0000"
                },
                {
                    "0": "Gula Malacca",
                    "1": "10524,2000"
                },
                {
                    "0": "Original Frankfurter grüne Soße",
                    "1": "9685,0000"
                },
                {
                    "0": "Sir Rodney's Scones",
                    "1": "9636,0000"
                },
                {
                    "0": "Maxilaku",
                    "1": "9500,0000"
                },
                {
                    "0": "Chef Anton's Cajun Seasoning",
                    "1": "9424,8000"
                },
                {
                    "0": "Scottish Longbreads",
                    "1": "9362,5000"
                },
                {
                    "0": "Singaporean Hokkien Fried Mee",
                    "1": "9332,4000"
                },
                {
                    "0": "Mascarpone Fabioli",
                    "1": "9171,2000"
                },
                {
                    "0": "Jack's New England Clam Chowder",
                    "1": "9098,1000"
                },
                {
                    "0": "Mishi Kobe Niku",
                    "1": "8827,0000"
                },
                {
                    "0": "Rhönbräu Klosterbier",
                    "1": "8650,5500"
                },
                {
                    "0": "Tofu",
                    "1": "8630,4000"
                },
                {
                    "0": "Ravioli Angelo",
                    "1": "7807,8000"
                },
                {
                    "0": "Grandma's Boysenberry Spread",
                    "1": "7345,0000"
                },
                {
                    "0": "Gustaf's Knäckebröd",
                    "1": "7232,4000"
                },
                {
                    "0": "Sasquatch Ale",
                    "1": "6678,0000"
                },
                {
                    "0": "Escargots de Bourgogne",
                    "1": "6664,7500"
                },
                {
                    "0": "Teatime Chocolate Biscuits",
                    "1": "6159,5000"
                },
                {
                    "0": "Spegesild",
                    "1": "6144,0000"
                },
                {
                    "0": "Chef Anton's Gumbo Mix",
                    "1": "5801,1500"
                },
                {
                    "0": "Konbu",
                    "1": "5234,4000"
                },
                {
                    "0": "Tourtière",
                    "1": "5121,0000"
                },
                {
                    "0": "Tunnbröd",
                    "1": "4840,2000"
                },
                {
                    "0": "Guaraná Fantástica",
                    "1": "4782,6000"
                },
                {
                    "0": "Rogede sild",
                    "1": "4740,5000"
                },
                {
                    "0": "Zaanse koeken",
                    "1": "4358,6000"
                },
                {
                    "0": "Röd Kaviar",
                    "1": "4200,0000"
                },
                {
                    "0": "NuNuCa Nuß-Nougat-Creme",
                    "1": "4051,6000"
                },
                {
                    "0": "Louisiana Hot Spiced Okra",
                    "1": "3519,0000"
                },
                {
                    "0": "Valkoinen suklaa",
                    "1": "3510,0000"
                },
                {
                    "0": "Filo Mix",
                    "1": "3383,8000"
                },
                {
                    "0": "Aniseed Syrup",
                    "1": "3080,0000"
                },
                {
                    "0": "Gravad lax",
                    "1": "3047,2000"
                },
                {
                    "0": "Longlife Tofu",
                    "1": "2566,0000"
                },
                {
                    "0": "Laughing Lumberjack Lager",
                    "1": "2562,0000"
                },
                {
                    "0": "Genen Shouyu",
                    "1": "1813,5000"
                },
                {
                    "0": "Geitost",
                    "1": "1713,5000"
                },
                {
                    "0": "Chocolade",
                    "1": "1542,7500"
                }
            ]
        },
        "text/html": [
            "<table>",
            "<tr><th>Ürün Adı</th><th>Kazanılan Ücret</th></tr>",
            "<tr><td>Côte de Blaye</td><td>149984,2000</td></tr>",
            "<tr><td>Thüringer Rostbratwurst</td><td>87736,4000</td></tr>",
            "<tr><td>Raclette Courdavault</td><td>76296,0000</td></tr>",
            "<tr><td>Camembert Pierrot</td><td>50286,0000</td></tr>",
            "<tr><td>Tarte au sucre</td><td>49827,9000</td></tr>",
            "<tr><td>Gnocchi di nonna Alice</td><td>45121,2000</td></tr>",
            "<tr><td>Manjimup Dried Apples</td><td>44742,6000</td></tr>",
            "<tr><td>Alice Mutton</td><td>35482,2000</td></tr>",
            "<tr><td>Carnarvon Tigers</td><td>31987,5000</td></tr>",
            "<tr><td>Rössle Sauerkraut</td><td>26865,6000</td></tr>",
            "<tr><td>Mozzarella di Giovanni</td><td>25738,8000</td></tr>",
            "<tr><td>Ipoh Coffee</td><td>25079,2000</td></tr>",
            "<tr><td>Gudbrandsdalsost</td><td>24307,2000</td></tr>",
            "<tr><td>Sir Rodney's Marmalade</td><td>23635,8000</td></tr>",
            "<tr><td>Wimmers gute Semmelknödel</td><td>23009,0000</td></tr>",
            "<tr><td>Uncle Bob's Organic Dried Pears</td><td>22464,0000</td></tr>",
            "<tr><td>Ikura</td><td>22140,2000</td></tr>",
            "<tr><td>Gumbär Gummibärchen</td><td>21534,9000</td></tr>",
            "<tr><td>Perth Pasties</td><td>21510,2000</td></tr>",
            "<tr><td>Flotemysost</td><td>20876,5000</td></tr>",
            "<tr><td>Pâté chinois</td><td>19512,0000</td></tr>",
            "<tr><td>Boston Crab Meat</td><td>19048,3000</td></tr>",
            "<tr><td>Pavlova</td><td>18748,0500</td></tr>",
            "<tr><td>Chang</td><td>18559,2000</td></tr>",
            "<tr><td>Vegie-spread</td><td>17696,3000</td></tr>",
            "<tr><td>Lakkalikööri</td><td>16794,0000</td></tr>",
            "<tr><td>Sirop d'érable</td><td>16438,8000</td></tr>",
            "<tr><td>Gorgonzola Telino</td><td>16172,5000</td></tr>",
            "<tr><td>Schoggi Schokolade</td><td>15231,5000</td></tr>",
            "<tr><td>Nord-Ost Matjeshering</td><td>14775,5400</td></tr>",
            "<tr><td>Louisiana Fiery Hot Pepper Sauce</td><td>14607,0000</td></tr>",
            "<tr><td>Inlagd Sill</td><td>14542,6000</td></tr>",
            "<tr><td>Steeleye Stout</td><td>14536,8000</td></tr>",
            "<tr><td>Chai</td><td>14277,6000</td></tr>",
            "<tr><td>Queso Cabrales</td><td>13902,0000</td></tr>",
            "<tr><td>Northwoods Cranberry Sauce</td><td>13760,0000</td></tr>",
            "<tr><td>Chartreuse verte</td><td>13150,8000</td></tr>",
            "<tr><td>Queso Manchego La Pastora</td><td>12866,8000</td></tr>",
            "<tr><td>Outback Lager</td><td>11472,0000</td></tr>",
            "<tr><td>Gula Malacca</td><td>10524,2000</td></tr>",
            "<tr><td>Original Frankfurter grüne Soße</td><td>9685,0000</td></tr>",
            "<tr><td>Sir Rodney's Scones</td><td>9636,0000</td></tr>",
            "<tr><td>Maxilaku</td><td>9500,0000</td></tr>",
            "<tr><td>Chef Anton's Cajun Seasoning</td><td>9424,8000</td></tr>",
            "<tr><td>Scottish Longbreads</td><td>9362,5000</td></tr>",
            "<tr><td>Singaporean Hokkien Fried Mee</td><td>9332,4000</td></tr>",
            "<tr><td>Mascarpone Fabioli</td><td>9171,2000</td></tr>",
            "<tr><td>Jack's New England Clam Chowder</td><td>9098,1000</td></tr>",
            "<tr><td>Mishi Kobe Niku</td><td>8827,0000</td></tr>",
            "<tr><td>Rhönbräu Klosterbier</td><td>8650,5500</td></tr>",
            "<tr><td>Tofu</td><td>8630,4000</td></tr>",
            "<tr><td>Ravioli Angelo</td><td>7807,8000</td></tr>",
            "<tr><td>Grandma's Boysenberry Spread</td><td>7345,0000</td></tr>",
            "<tr><td>Gustaf's Knäckebröd</td><td>7232,4000</td></tr>",
            "<tr><td>Sasquatch Ale</td><td>6678,0000</td></tr>",
            "<tr><td>Escargots de Bourgogne</td><td>6664,7500</td></tr>",
            "<tr><td>Teatime Chocolate Biscuits</td><td>6159,5000</td></tr>",
            "<tr><td>Spegesild</td><td>6144,0000</td></tr>",
            "<tr><td>Chef Anton's Gumbo Mix</td><td>5801,1500</td></tr>",
            "<tr><td>Konbu</td><td>5234,4000</td></tr>",
            "<tr><td>Tourtière</td><td>5121,0000</td></tr>",
            "<tr><td>Tunnbröd</td><td>4840,2000</td></tr>",
            "<tr><td>Guaraná Fantástica</td><td>4782,6000</td></tr>",
            "<tr><td>Rogede sild</td><td>4740,5000</td></tr>",
            "<tr><td>Zaanse koeken</td><td>4358,6000</td></tr>",
            "<tr><td>Röd Kaviar</td><td>4200,0000</td></tr>",
            "<tr><td>NuNuCa Nuß-Nougat-Creme</td><td>4051,6000</td></tr>",
            "<tr><td>Louisiana Hot Spiced Okra</td><td>3519,0000</td></tr>",
            "<tr><td>Valkoinen suklaa</td><td>3510,0000</td></tr>",
            "<tr><td>Filo Mix</td><td>3383,8000</td></tr>",
            "<tr><td>Aniseed Syrup</td><td>3080,0000</td></tr>",
            "<tr><td>Gravad lax</td><td>3047,2000</td></tr>",
            "<tr><td>Longlife Tofu</td><td>2566,0000</td></tr>",
            "<tr><td>Laughing Lumberjack Lager</td><td>2562,0000</td></tr>",
            "<tr><td>Genen Shouyu</td><td>1813,5000</td></tr>",
            "<tr><td>Geitost</td><td>1713,5000</td></tr>",
            "<tr><td>Chocolade</td><td>1542,7500</td></tr>",
            "</table>"
        ]
    }
}
],
            "execution_count": 25
        }
    ]
}